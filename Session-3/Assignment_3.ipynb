{
  "nbformat": 4,
  "nbformat_minor": 0,
  "metadata": {
    "colab": {
      "name": "Assignment-3.ipynb",
      "provenance": [],
      "toc_visible": true
    },
    "kernelspec": {
      "name": "python3",
      "display_name": "Python 3"
    }
  },
  "cells": [
    {
      "cell_type": "markdown",
      "metadata": {
        "id": "AADYqO2H3F3F"
      },
      "source": [
        "# Question No:1"
      ]
    },
    {
      "cell_type": "markdown",
      "metadata": {
        "id": "H_7JV1aC27HC"
      },
      "source": [
        "##Write a function using only list filter lambda that can tell whether a number is a Fibonacci number or not. You can use a pre-calculated list/dict to store fab numbers till 10000"
      ]
    },
    {
      "cell_type": "code",
      "metadata": {
        "id": "yJZr0B0225RJ",
        "outputId": "cf1cd4b0-9977-49c5-de71-68bcf3f28253",
        "colab": {
          "base_uri": "https://localhost:8080/"
        }
      },
      "source": [
        "#Function to output list of fibonacci numberas in range of 10k\n",
        "def fib(limit=10000):\n",
        "  n1,n2=0,1\n",
        "  value=0\n",
        "  fib_list=[]\n",
        "  print() \n",
        "  while (value < limit): \n",
        "    fib_list.append(n1)\n",
        "    value=n1+n2\n",
        "    n1=n2\n",
        "    n2=value\n",
        "  fib_list.append(n1)  \n",
        "  return fib_list\n",
        "\n",
        "final_list=fib()\n",
        "print(final_list)"
      ],
      "execution_count": 1,
      "outputs": [
        {
          "output_type": "stream",
          "text": [
            "\n",
            "[0, 1, 1, 2, 3, 5, 8, 13, 21, 34, 55, 89, 144, 233, 377, 610, 987, 1597, 2584, 4181, 6765]\n"
          ],
          "name": "stdout"
        }
      ]
    },
    {
      "cell_type": "code",
      "metadata": {
        "id": "wA6bx1rA8K63",
        "outputId": "1e04b858-7f6d-425e-fdaa-0118b68ba269",
        "colab": {
          "base_uri": "https://localhost:8080/"
        }
      },
      "source": [
        "number=200\n",
        "check=lambda value : value in final_list  #lambda function to check whether given number is fibonacci in given range \n",
        "if check(number) ==False:\n",
        "  print(\"Number is not a Fibonacci in range of 10k\")\n",
        "else:\n",
        "  print(\"Number is a Fibonacci Number\")"
      ],
      "execution_count": 2,
      "outputs": [
        {
          "output_type": "stream",
          "text": [
            "Number is not a Fibonacci in range of 10k\n"
          ],
          "name": "stdout"
        }
      ]
    },
    {
      "cell_type": "markdown",
      "metadata": {
        "id": "IxTUlb7G_oQ4"
      },
      "source": [
        "#2.Using list comprehension (and zip/lambda/etc if required) write five different expressions"
      ]
    },
    {
      "cell_type": "markdown",
      "metadata": {
        "id": "-15wLANw_svP"
      },
      "source": [
        "## 2.1 add 2 iterables a and b such that a is even and b is odd"
      ]
    },
    {
      "cell_type": "code",
      "metadata": {
        "id": "5Ho7IlNu_r4M",
        "outputId": "61e53ce3-6b3c-4f51-ce6f-34226939f6f0",
        "colab": {
          "base_uri": "https://localhost:8080/"
        }
      },
      "source": [
        "a=[2,4,6,8,10,14]\n",
        "b=[1,2,3,4,9,15]\n",
        "final=list(map(sum,zip(filter(lambda x: x%2==0, a),filter(lambda y: y%2!=0, b))))\n",
        "print(final)"
      ],
      "execution_count": 3,
      "outputs": [
        {
          "output_type": "stream",
          "text": [
            "[3, 7, 15, 23]\n"
          ],
          "name": "stdout"
        }
      ]
    },
    {
      "cell_type": "markdown",
      "metadata": {
        "id": "Sydcg4eBGShr"
      },
      "source": [
        "## 2.2 strips every vowel from a string provided (tsai>>t s)"
      ]
    },
    {
      "cell_type": "code",
      "metadata": {
        "id": "iBgfcI7yC855",
        "outputId": "78b0ec6e-d650-42c4-8cb6-249c6cf9e53c",
        "colab": {
          "base_uri": "https://localhost:8080/"
        }
      },
      "source": [
        "input=\"tsai\"\n",
        "vowels=[\"a\",\"e\",\"i\",\"o\",\"u\"]\n",
        "final_str = ''.join([x for x in input.lower() if x not in vowels])\n",
        "print(final_str)"
      ],
      "execution_count": 4,
      "outputs": [
        {
          "output_type": "stream",
          "text": [
            "ts\n"
          ],
          "name": "stdout"
        }
      ]
    },
    {
      "cell_type": "markdown",
      "metadata": {
        "id": "xNC_ctW9I9Ow"
      },
      "source": [
        "##2.3  ReLU function for a 1D array"
      ]
    },
    {
      "cell_type": "code",
      "metadata": {
        "id": "kbOOGLAPHY38",
        "outputId": "21293824-ce43-48d8-fdc4-77e668174376",
        "colab": {
          "base_uri": "https://localhost:8080/"
        }
      },
      "source": [
        "input = [0,-1,5,-8,-7,-0.5,100]\n",
        "relu = [x if x >= 0 else 0 for x in input]\n",
        "print(relu)"
      ],
      "execution_count": 5,
      "outputs": [
        {
          "output_type": "stream",
          "text": [
            "[0, 0, 5, 0, 0, 0, 100]\n"
          ],
          "name": "stdout"
        }
      ]
    },
    {
      "cell_type": "markdown",
      "metadata": {
        "id": "RQdVvTPFJBe_"
      },
      "source": [
        "##2.4 Sigmoid function for a 1D array"
      ]
    },
    {
      "cell_type": "code",
      "metadata": {
        "id": "30PLG3i7IWDI",
        "outputId": "c2c9f3bd-8a37-4d34-e808-098a4846cd86",
        "colab": {
          "base_uri": "https://localhost:8080/"
        }
      },
      "source": [
        "import math\n",
        "input = [0,-1,5,-8,-7,-0.5,100]\n",
        "sigmoid = [math.exp(x) / (math.exp(x)+1) for x in input]\n",
        "print(sigmoid)"
      ],
      "execution_count": 6,
      "outputs": [
        {
          "output_type": "stream",
          "text": [
            "[0.5, 0.2689414213699951, 0.9933071490757152, 0.00033535013046647816, 0.0009110511944006454, 0.37754066879814546, 1.0]\n"
          ],
          "name": "stdout"
        }
      ]
    },
    {
      "cell_type": "markdown",
      "metadata": {
        "id": "zv7s7_kqLGAX"
      },
      "source": [
        "##2.5takes a small character string and shifts all characters by 5 (handle boundary conditions) tsai>>yxfn"
      ]
    },
    {
      "cell_type": "code",
      "metadata": {
        "id": "pvXc0wQQI036",
        "outputId": "9b4abb59-a6eb-4627-a8a6-9625487502b9",
        "colab": {
          "base_uri": "https://localhost:8080/"
        }
      },
      "source": [
        "input=\"tsai\"\n",
        "final=''.join(chr((ord(x)- 97 + 5) % 26 + 97) for x in input)\n",
        "print(final)"
      ],
      "execution_count": 7,
      "outputs": [
        {
          "output_type": "stream",
          "text": [
            "yxfn\n"
          ],
          "name": "stdout"
        }
      ]
    },
    {
      "cell_type": "markdown",
      "metadata": {
        "id": "Y78hSRDnyQRP"
      },
      "source": [
        "#Cross check Swear words from  https://github.com/RobertJGabriel/Google-profanity-words/blob/master/list.txt \n"
      ]
    },
    {
      "cell_type": "code",
      "metadata": {
        "id": "PCNUIGO_Jwhw",
        "outputId": "fd608d53-0731-46ba-c445-2d56be3a17a2",
        "colab": {
          "base_uri": "https://localhost:8080/"
        }
      },
      "source": [
        "!wget https://raw.githubusercontent.com/RobertJGabriel/Google-profanity-words/master/list.txt -O swear_words"
      ],
      "execution_count": 8,
      "outputs": [
        {
          "output_type": "stream",
          "text": [
            "--2020-11-03 17:54:15--  https://raw.githubusercontent.com/RobertJGabriel/Google-profanity-words/master/list.txt\n",
            "Resolving raw.githubusercontent.com (raw.githubusercontent.com)... 151.101.0.133, 151.101.64.133, 151.101.128.133, ...\n",
            "Connecting to raw.githubusercontent.com (raw.githubusercontent.com)|151.101.0.133|:443... connected.\n",
            "HTTP request sent, awaiting response... 200 OK\n",
            "Length: 3622 (3.5K) [text/plain]\n",
            "Saving to: ‘swear_words’\n",
            "\n",
            "\rswear_words           0%[                    ]       0  --.-KB/s               \rswear_words         100%[===================>]   3.54K  --.-KB/s    in 0s      \n",
            "\n",
            "2020-11-03 17:54:15 (27.2 MB/s) - ‘swear_words’ saved [3622/3622]\n",
            "\n"
          ],
          "name": "stdout"
        }
      ]
    },
    {
      "cell_type": "code",
      "metadata": {
        "id": "FI_ANN3N1v9B"
      },
      "source": [
        "with open(\"swear_words\", \"r\") as f:\n",
        "    swear_words = [ x.strip() for x in f.readlines() ]"
      ],
      "execution_count": 9,
      "outputs": []
    },
    {
      "cell_type": "code",
      "metadata": {
        "id": "HTevjwAQ1WZu",
        "outputId": "2580be4e-3975-456b-ac5d-95f590ae2918",
        "colab": {
          "base_uri": "https://localhost:8080/"
        }
      },
      "source": [
        "input=\"what a duche dyke\"\n",
        "x=1\n",
        "for x in swear_words:\n",
        "  if x in input:\n",
        "    x=0\n",
        "    break\n",
        "if x==0:\n",
        "  print(\"Yes input has swear words\")   \n",
        "else :\n",
        "  print(\"No swaer words\")  "
      ],
      "execution_count": 11,
      "outputs": [
        {
          "output_type": "stream",
          "text": [
            "Yes input has swear words\n"
          ],
          "name": "stdout"
        }
      ]
    },
    {
      "cell_type": "code",
      "metadata": {
        "id": "4IGJBbbm2ha_",
        "outputId": "6ba4e2ce-4dcb-49cd-da9c-d9cecc8e20c0",
        "colab": {
          "base_uri": "https://localhost:8080/"
        }
      },
      "source": [
        "input=\"what a idiot\"\n",
        "x=1\n",
        "for x in swear_words:\n",
        "  if x in input:\n",
        "    x=0\n",
        "    break\n",
        "if x==0:\n",
        "  print(\"Yes input has swear words\")   \n",
        "else :\n",
        "  print(\"No swaer words\") "
      ],
      "execution_count": 12,
      "outputs": [
        {
          "output_type": "stream",
          "text": [
            "No swaer words\n"
          ],
          "name": "stdout"
        }
      ]
    },
    {
      "cell_type": "markdown",
      "metadata": {
        "id": "PbLkpk3i5TiI"
      },
      "source": [
        "#4.Use Reduce Function"
      ]
    },
    {
      "cell_type": "markdown",
      "metadata": {
        "id": "d4ddgUko5cB4"
      },
      "source": [
        "##4.1 add only even numbers in a list"
      ]
    },
    {
      "cell_type": "code",
      "metadata": {
        "id": "0EJYm7I64S3L",
        "outputId": "9cfa7d88-8cfc-4eec-9f06-571a5bb9f6c6",
        "colab": {
          "base_uri": "https://localhost:8080/"
        }
      },
      "source": [
        "from functools import reduce\n",
        "input = [1, 2, 3, 4, 5, 6]\n",
        "final = reduce( lambda x,y: x+y, filter(lambda x: x%2==0, input)) \n",
        "print(final)"
      ],
      "execution_count": 13,
      "outputs": [
        {
          "output_type": "stream",
          "text": [
            "12\n"
          ],
          "name": "stdout"
        }
      ]
    },
    {
      "cell_type": "markdown",
      "metadata": {
        "id": "5qPjTMlu7IIC"
      },
      "source": [
        "##4.2 find the biggest character in a string"
      ]
    },
    {
      "cell_type": "code",
      "metadata": {
        "id": "xDk6mVt66Wi-",
        "outputId": "8593b37e-2a7b-42b7-ce59-18fc8d748dc2",
        "colab": {
          "base_uri": "https://localhost:8080/"
        }
      },
      "source": [
        "input = \"zipper\"\n",
        "final = reduce(lambda x,y: x if x > y else y, input)\n",
        "print(final)"
      ],
      "execution_count": 14,
      "outputs": [
        {
          "output_type": "stream",
          "text": [
            "z\n"
          ],
          "name": "stdout"
        }
      ]
    },
    {
      "cell_type": "markdown",
      "metadata": {
        "id": "nnNh5fvz-7gj"
      },
      "source": [
        "##4.3 adds every 3rd number in a list"
      ]
    },
    {
      "cell_type": "code",
      "metadata": {
        "id": "FTy3QGDr7oPD",
        "outputId": "a6daa30f-bbc5-4c7b-823d-2044b785ef00",
        "colab": {
          "base_uri": "https://localhost:8080/"
        }
      },
      "source": [
        "input = [1, 2, 3, 4, 5, 6,10]\n",
        "# print(input.index(3)%3==0)\n",
        "lth=len(input)\n",
        "final = reduce( lambda x,y: x+y, filter(lambda x: input.index(x)%3==0, input)) \n",
        "print(final)"
      ],
      "execution_count": 15,
      "outputs": [
        {
          "output_type": "stream",
          "text": [
            "15\n"
          ],
          "name": "stdout"
        }
      ]
    },
    {
      "cell_type": "markdown",
      "metadata": {
        "id": "_qjX-IelHiz4"
      },
      "source": [
        "# 5. Write an expression that generates 15 random KADDAADDDD number plates\n",
        "#####  where KA is fixed,\n",
        "##### D stands for a digit\n",
        " A stands for Capital alphabets"
      ]
    },
    {
      "cell_type": "code",
      "metadata": {
        "id": "BT23CYNoA1UQ",
        "outputId": "79079176-f1a3-4f77-d138-fc7a140bdd16",
        "colab": {
          "base_uri": "https://localhost:8080/"
        }
      },
      "source": [
        "import random\n",
        "import string\n",
        "length = 15\n",
        "fix = \"KA\"\n",
        "D2 = lambda: random.randint(10,99)\n",
        "D4 = lambda: random.randint(1000,9999)\n",
        "C1= random.choice(string.ascii_uppercase)\n",
        "C2= random.choice(string.ascii_uppercase)\n",
        "cf=[C1,C2]\n",
        "lett =\"\".join(cf)\n",
        "\n",
        "final = [fix + str(D2()) + lett + str(D4()) for i in range(length)]\n",
        "print(final)"
      ],
      "execution_count": 16,
      "outputs": [
        {
          "output_type": "stream",
          "text": [
            "['KA92DM5507', 'KA75DM2652', 'KA56DM8749', 'KA54DM6951', 'KA42DM4717', 'KA18DM3432', 'KA28DM5935', 'KA86DM1025', 'KA79DM1525', 'KA44DM8266', 'KA53DM6474', 'KA45DM8637', 'KA20DM2225', 'KA44DM4247', 'KA63DM3966']\n"
          ],
          "name": "stdout"
        }
      ]
    },
    {
      "cell_type": "markdown",
      "metadata": {
        "id": "91tCi8X5LWFp"
      },
      "source": [
        "#6. Write the above again from scratch where KA can be changed to DL, and 1000/9999 ranges can be provided"
      ]
    },
    {
      "cell_type": "code",
      "metadata": {
        "id": "Za7igWN_JRvI",
        "outputId": "d05c8730-142c-48fd-cfd1-4c1f7d4c32ee",
        "colab": {
          "base_uri": "https://localhost:8080/"
        }
      },
      "source": [
        "length = 15\n",
        "D4_=[3000,7000]\n",
        "fix = lambda: random.choice([\"KA\", \"DL\"])\n",
        "D2 = lambda: random.randint(10,99)\n",
        "D4 = lambda args: random.randint(*args)\n",
        "C1= random.choice(string.ascii_uppercase)\n",
        "C2= random.choice(string.ascii_uppercase)\n",
        "cf=[C1,C2]\n",
        "lett =\"\".join(cf)\n",
        "\n",
        "final = [fix() + str(D2()) + lett + str(D4(D4_)) for i in range(length)]\n",
        "print(final)"
      ],
      "execution_count": 17,
      "outputs": [
        {
          "output_type": "stream",
          "text": [
            "['KA34KD3445', 'KA88KD3813', 'DL52KD4294', 'KA29KD3794', 'DL29KD6793', 'DL20KD3281', 'KA11KD6534', 'KA38KD5930', 'DL60KD4904', 'DL44KD4698', 'DL58KD6140', 'DL93KD4873', 'KA79KD3961', 'DL43KD3019', 'KA32KD3792']\n"
          ],
          "name": "stdout"
        }
      ]
    }
  ]
}