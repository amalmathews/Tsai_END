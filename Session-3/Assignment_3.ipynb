{
  "nbformat": 4,
  "nbformat_minor": 0,
  "metadata": {
    "colab": {
      "name": "Assignment-3.ipynb",
      "provenance": [],
      "toc_visible": true
    },
    "kernelspec": {
      "name": "python3",
      "display_name": "Python 3"
    }
  },
  "cells": [
    {
      "cell_type": "markdown",
      "metadata": {
        "id": "AADYqO2H3F3F"
      },
      "source": [
        "# Question No:1"
      ]
    },
    {
      "cell_type": "markdown",
      "metadata": {
        "id": "H_7JV1aC27HC"
      },
      "source": [
        "##Write a function using only list filter lambda that can tell whether a number is a Fibonacci number or not. You can use a pre-calculated list/dict to store fab numbers till 10000"
      ]
    },
    {
      "cell_type": "code",
      "metadata": {
        "id": "yJZr0B0225RJ",
        "outputId": "cf1cd4b0-9977-49c5-de71-68bcf3f28253",
        "colab": {
          "base_uri": "https://localhost:8080/"
        }
      },
      "source": [
        "#Function to output list of fibonacci numberas in range of 10k\n",
        "def fib(limit=10000):\n",
        "  n1,n2=0,1\n",
        "  value=0\n",
        "  fib_list=[]\n",
        "  print() \n",
        "  while (value < limit): \n",
        "    fib_list.append(n1)\n",
        "    value=n1+n2\n",
        "    n1=n2\n",
        "    n2=value\n",
        "  fib_list.append(n1)  \n",
        "  return fib_list\n",
        "\n",
        "final_list=fib()\n",
        "print(final_list)"
      ],
      "execution_count": 1,
      "outputs": [
        {
          "output_type": "stream",
          "text": [
            "\n",
            "[0, 1, 1, 2, 3, 5, 8, 13, 21, 34, 55, 89, 144, 233, 377, 610, 987, 1597, 2584, 4181, 6765]\n"
          ],
          "name": "stdout"
        }
      ]
    },
    {
      "cell_type": "code",
      "metadata": {
        "id": "wA6bx1rA8K63",
        "outputId": "1e04b858-7f6d-425e-fdaa-0118b68ba269",
        "colab": {
          "base_uri": "https://localhost:8080/"
        }
      },
      "source": [
        "number=200\n",
        "check=lambda value : value in final_list  #lambda function to check whether given number is fibonacci in given range \n",
        "if check(number) ==False:\n",
        "  print(\"Number is not a Fibonacci in range of 10k\")\n",
        "else:\n",
        "  print(\"Number is a Fibonacci Number\")"
      ],
      "execution_count": 2,
      "outputs": [
        {
          "output_type": "stream",
          "text": [
            "Number is not a Fibonacci in range of 10k\n"
          ],
          "name": "stdout"
        }
      ]
    },
    {
      "cell_type": "markdown",
      "metadata": {
        "id": "IxTUlb7G_oQ4"
      },
      "source": [
        "#2.Using list comprehension (and zip/lambda/etc if required) write five different expressions"
      ]
    },
    {
      "cell_type": "markdown",
      "metadata": {
        "id": "-15wLANw_svP"
      },
      "source": [
        "## 2.1 add 2 iterables a and b such that a is even and b is odd"
      ]
    },
    {
      "cell_type": "code",
      "metadata": {
        "id": "5Ho7IlNu_r4M",
        "outputId": "61e53ce3-6b3c-4f51-ce6f-34226939f6f0",
        "colab": {
          "base_uri": "https://localhost:8080/"
        }
      },
      "source": [
        "a=[2,4,6,8,10,14]\n",
        "b=[1,2,3,4,9,15]\n",
        "final=list(map(sum,zip(filter(lambda x: x%2==0, a),filter(lambda y: y%2!=0, b))))\n",
        "print(final)"
      ],
      "execution_count": 3,
      "outputs": [
        {
          "output_type": "stream",
          "text": [
            "[3, 7, 15, 23]\n"
          ],
          "name": "stdout"
        }
      ]
    },
    {
      "cell_type": "markdown",
      "metadata": {
        "id": "Sydcg4eBGShr"
      },
      "source": [
        "## 2.2 strips every vowel from a string provided (tsai>>t s)"
      ]
    },
    {
      "cell_type": "code",
      "metadata": {
        "id": "iBgfcI7yC855",
        "outputId": "78b0ec6e-d650-42c4-8cb6-249c6cf9e53c",
        "colab": {
          "base_uri": "https://localhost:8080/"
        }
      },
      "source": [
        "input=\"tsai\"\n",
        "vowels=[\"a\",\"e\",\"i\",\"o\",\"u\"]\n",
        "final_str = ''.join([x for x in input.lower() if x not in vowels])\n",
        "print(final_str)"
      ],
      "execution_count": 4,
      "outputs": [
        {
          "output_type": "stream",
          "text": [
            "ts\n"
          ],
          "name": "stdout"
        }
      ]
    },
    {
      "cell_type": "markdown",
      "metadata": {
        "id": "xNC_ctW9I9Ow"
      },
      "source": [
        "##2.3  ReLU function for a 1D array"
      ]
    },
    {
      "cell_type": "code",
      "metadata": {
        "id": "kbOOGLAPHY38",
        "outputId": "21293824-ce43-48d8-fdc4-77e668174376",
        "colab": {
          "base_uri": "https://localhost:8080/"
        }
      },
      "source": [
        "input = [0,-1,5,-8,-7,-0.5,100]\n",
        "relu = [x if x >= 0 else 0 for x in input]\n",
        "print(relu)"
      ],
      "execution_count": 5,
      "outputs": [
        {
          "output_type": "stream",
          "text": [
            "[0, 0, 5, 0, 0, 0, 100]\n"
          ],
          "name": "stdout"
        }
      ]
    },
    {
      "cell_type": "markdown",
      "metadata": {
        "id": "RQdVvTPFJBe_"
      },
      "source": [
        "##2.4 Sigmoid function for a 1D array"
      ]
    },
    {
      "cell_type": "code",
      "metadata": {
        "id": "30PLG3i7IWDI",
        "outputId": "c2c9f3bd-8a37-4d34-e808-098a4846cd86",
        "colab": {
          "base_uri": "https://localhost:8080/"
        }
      },
      "source": [
        "import math\n",
        "input = [0,-1,5,-8,-7,-0.5,100]\n",
        "sigmoid = [math.exp(x) / (math.exp(x)+1) for x in input]\n",
        "print(sigmoid)"
      ],
      "execution_count": 6,
      "outputs": [
        {
          "output_type": "stream",
          "text": [
            "[0.5, 0.2689414213699951, 0.9933071490757152, 0.00033535013046647816, 0.0009110511944006454, 0.37754066879814546, 1.0]\n"
          ],
          "name": "stdout"
        }
      ]
    },
    {
      "cell_type": "markdown",
      "metadata": {
        "id": "zv7s7_kqLGAX"
      },
      "source": [
        "##2.5takes a small character string and shifts all characters by 5 (handle boundary conditions) tsai>>yxfn"
      ]
    },
    {
      "cell_type": "code",
      "metadata": {
        "id": "pvXc0wQQI036",
        "outputId": "9b4abb59-a6eb-4627-a8a6-9625487502b9",
        "colab": {
          "base_uri": "https://localhost:8080/"
        }
      },
      "source": [
        "input=\"tsai\"\n",
        "final=''.join(chr((ord(x)- 97 + 5) % 26 + 97) for x in input)\n",
        "print(final)"
      ],
      "execution_count": 7,
      "outputs": [
        {
          "output_type": "stream",
          "text": [
            "yxfn\n"
          ],
          "name": "stdout"
        }
      ]
    },
    {
      "cell_type": "markdown",
      "metadata": {
        "id": "Y78hSRDnyQRP"
      },
      "source": [
        "#Cross check Swear words from  https://github.com/RobertJGabriel/Google-profanity-words/blob/master/list.txt \n"
      ]
    },
    {
      "cell_type": "code",
      "metadata": {
        "id": "PCNUIGO_Jwhw",
        "outputId": "fd608d53-0731-46ba-c445-2d56be3a17a2",
        "colab": {
          "base_uri": "https://localhost:8080/"
        }
      },
      "source": [
        "!wget https://raw.githubusercontent.com/RobertJGabriel/Google-profanity-words/master/list.txt -O swear_words"
      ],
      "execution_count": 8,
      "outputs": [
        {
          "output_type": "stream",
          "text": [
            "--2020-11-03 17:54:15--  https://raw.githubusercontent.com/RobertJGabriel/Google-profanity-words/master/list.txt\n",
            "Resolving raw.githubusercontent.com (raw.githubusercontent.com)... 151.101.0.133, 151.101.64.133, 151.101.128.133, ...\n",
            "Connecting to raw.githubusercontent.com (raw.githubusercontent.com)|151.101.0.133|:443... connected.\n",
            "HTTP request sent, awaiting response... 200 OK\n",
            "Length: 3622 (3.5K) [text/plain]\n",
            "Saving to: ‘swear_words’\n",
            "\n",
            "\rswear_words           0%[                    ]       0  --.-KB/s               \rswear_words         100%[===================>]   3.54K  --.-KB/s    in 0s      \n",
            "\n",
            "2020-11-03 17:54:15 (27.2 MB/s) - ‘swear_words’ saved [3622/3622]\n",
            "\n"
          ],
          "name": "stdout"
        }
      ]
    },
    {
      "cell_type": "code",
      "metadata": {
        "id": "FI_ANN3N1v9B"
      },
      "source": [
        "with open(\"swear_words\", \"r\") as f:\n",
        "    swear_words = [ x.strip() for x in f.readlines() ]"
      ],
      "execution_count": 9,
      "outputs": []
    },
    {
      "cell_type": "code",
      "metadata": {
        "id": "6Nb5luJpzQ6L",
        "outputId": "9c732c35-819d-495c-f2be-e71fe309ba87",
        "colab": {
          "base_uri": "https://localhost:8080/"
        }
      },
      "source": [
        "for x in swear_words:\n",
        "  print(x)"
      ],
      "execution_count": 10,
      "outputs": [
        {
          "output_type": "stream",
          "text": [
            "4r5e\n",
            "5h1t\n",
            "5hit\n",
            "a55\n",
            "anal\n",
            "anus\n",
            "ar5e\n",
            "arrse\n",
            "arse\n",
            "ass\n",
            "ass-fucker\n",
            "asses\n",
            "assfucker\n",
            "assfukka\n",
            "asshole\n",
            "assholes\n",
            "asswhole\n",
            "a_s_s\n",
            "b!tch\n",
            "b00bs\n",
            "b17ch\n",
            "b1tch\n",
            "ballbag\n",
            "balls\n",
            "ballsack\n",
            "bastard\n",
            "beastial\n",
            "beastiality\n",
            "bellend\n",
            "bestial\n",
            "bestiality\n",
            "bi+ch\n",
            "biatch\n",
            "bitch\n",
            "bitcher\n",
            "bitchers\n",
            "bitches\n",
            "bitchin\n",
            "bitching\n",
            "bloody\n",
            "blow job\n",
            "blowjob\n",
            "blowjobs\n",
            "boiolas\n",
            "bollock\n",
            "bollok\n",
            "boner\n",
            "boob\n",
            "boobs\n",
            "booobs\n",
            "boooobs\n",
            "booooobs\n",
            "booooooobs\n",
            "breasts\n",
            "buceta\n",
            "bugger\n",
            "bum\n",
            "bunny fucker\n",
            "butt\n",
            "butthole\n",
            "buttmunch\n",
            "buttplug\n",
            "c0ck\n",
            "c0cksucker\n",
            "carpet muncher\n",
            "cawk\n",
            "chink\n",
            "cipa\n",
            "cl1t\n",
            "clit\n",
            "clitoris\n",
            "clits\n",
            "cnut\n",
            "cock\n",
            "cock-sucker\n",
            "cockface\n",
            "cockhead\n",
            "cockmunch\n",
            "cockmuncher\n",
            "cocks\n",
            "cocksuck\n",
            "cocksucked\n",
            "cocksucker\n",
            "cocksucking\n",
            "cocksucks\n",
            "cocksuka\n",
            "cocksukka\n",
            "cok\n",
            "cokmuncher\n",
            "coksucka\n",
            "coon\n",
            "cox\n",
            "crap\n",
            "cum\n",
            "cummer\n",
            "cumming\n",
            "cums\n",
            "cumshot\n",
            "cunilingus\n",
            "cunillingus\n",
            "cunnilingus\n",
            "cunt\n",
            "cuntlick\n",
            "cuntlicker\n",
            "cuntlicking\n",
            "cunts\n",
            "cyalis\n",
            "cyberfuc\n",
            "cyberfuck\n",
            "cyberfucked\n",
            "cyberfucker\n",
            "cyberfuckers\n",
            "cyberfucking\n",
            "d1ck\n",
            "damn\n",
            "dick\n",
            "dickhead\n",
            "dildo\n",
            "dildos\n",
            "dink\n",
            "dinks\n",
            "dirsa\n",
            "dlck\n",
            "dog-fucker\n",
            "doggin\n",
            "dogging\n",
            "donkeyribber\n",
            "doosh\n",
            "duche\n",
            "dyke\n",
            "ejaculate\n",
            "ejaculated\n",
            "ejaculates\n",
            "ejaculating\n",
            "ejaculatings\n",
            "ejaculation\n",
            "ejakulate\n",
            "f u c k\n",
            "f u c k e r\n",
            "f4nny\n",
            "fag\n",
            "fagging\n",
            "faggitt\n",
            "faggot\n",
            "faggs\n",
            "fagot\n",
            "fagots\n",
            "fags\n",
            "fanny\n",
            "fannyflaps\n",
            "fannyfucker\n",
            "fanyy\n",
            "fatass\n",
            "fcuk\n",
            "fcuker\n",
            "fcuking\n",
            "feck\n",
            "fecker\n",
            "felching\n",
            "fellate\n",
            "fellatio\n",
            "fingerfuck\n",
            "fingerfucked\n",
            "fingerfucker\n",
            "fingerfuckers\n",
            "fingerfucking\n",
            "fingerfucks\n",
            "fistfuck\n",
            "fistfucked\n",
            "fistfucker\n",
            "fistfuckers\n",
            "fistfucking\n",
            "fistfuckings\n",
            "fistfucks\n",
            "flange\n",
            "fook\n",
            "fooker\n",
            "fuck\n",
            "fucka\n",
            "fucked\n",
            "fucker\n",
            "fuckers\n",
            "fuckhead\n",
            "fuckheads\n",
            "fuckin\n",
            "fucking\n",
            "fuckings\n",
            "fuckingshitmotherfucker\n",
            "fuckme\n",
            "fucks\n",
            "fuckwhit\n",
            "fuckwit\n",
            "fudge packer\n",
            "fudgepacker\n",
            "fuk\n",
            "fuker\n",
            "fukker\n",
            "fukkin\n",
            "fuks\n",
            "fukwhit\n",
            "fukwit\n",
            "fux\n",
            "fux0r\n",
            "f_u_c_k\n",
            "gangbang\n",
            "gangbanged\n",
            "gangbangs\n",
            "gaylord\n",
            "gaysex\n",
            "goatse\n",
            "God\n",
            "god-dam\n",
            "god-damned\n",
            "goddamn\n",
            "goddamned\n",
            "hardcoresex\n",
            "hell\n",
            "heshe\n",
            "hoar\n",
            "hoare\n",
            "hoer\n",
            "homo\n",
            "hore\n",
            "horniest\n",
            "horny\n",
            "hotsex\n",
            "jack-off\n",
            "jackoff\n",
            "jap\n",
            "jerk-off\n",
            "jism\n",
            "jiz\n",
            "jizm\n",
            "jizz\n",
            "kawk\n",
            "knob\n",
            "knobead\n",
            "knobed\n",
            "knobend\n",
            "knobhead\n",
            "knobjocky\n",
            "knobjokey\n",
            "kock\n",
            "kondum\n",
            "kondums\n",
            "kum\n",
            "kummer\n",
            "kumming\n",
            "kums\n",
            "kunilingus\n",
            "l3i+ch\n",
            "l3itch\n",
            "labia\n",
            "lmfao\n",
            "lust\n",
            "lusting\n",
            "m0f0\n",
            "m0fo\n",
            "m45terbate\n",
            "ma5terb8\n",
            "ma5terbate\n",
            "masochist\n",
            "master-bate\n",
            "masterb8\n",
            "masterbat*\n",
            "masterbat3\n",
            "masterbate\n",
            "masterbation\n",
            "masterbations\n",
            "masturbate\n",
            "mo-fo\n",
            "mof0\n",
            "mofo\n",
            "mothafuck\n",
            "mothafucka\n",
            "mothafuckas\n",
            "mothafuckaz\n",
            "mothafucked\n",
            "mothafucker\n",
            "mothafuckers\n",
            "mothafuckin\n",
            "mothafucking\n",
            "mothafuckings\n",
            "mothafucks\n",
            "mother fucker\n",
            "motherfuck\n",
            "motherfucked\n",
            "motherfucker\n",
            "motherfuckers\n",
            "motherfuckin\n",
            "motherfucking\n",
            "motherfuckings\n",
            "motherfuckka\n",
            "motherfucks\n",
            "muff\n",
            "mutha\n",
            "muthafecker\n",
            "muthafuckker\n",
            "muther\n",
            "mutherfucker\n",
            "n1gga\n",
            "n1gger\n",
            "nazi\n",
            "nigg3r\n",
            "nigg4h\n",
            "nigga\n",
            "niggah\n",
            "niggas\n",
            "niggaz\n",
            "nigger\n",
            "niggers\n",
            "nob\n",
            "nob jokey\n",
            "nobhead\n",
            "nobjocky\n",
            "nobjokey\n",
            "numbnuts\n",
            "nutsack\n",
            "orgasim\n",
            "orgasims\n",
            "orgasm\n",
            "orgasms\n",
            "p0rn\n",
            "pawn\n",
            "pecker\n",
            "penis\n",
            "penisfucker\n",
            "phonesex\n",
            "phuck\n",
            "phuk\n",
            "phuked\n",
            "phuking\n",
            "phukked\n",
            "phukking\n",
            "phuks\n",
            "phuq\n",
            "pigfucker\n",
            "pimpis\n",
            "piss\n",
            "pissed\n",
            "pisser\n",
            "pissers\n",
            "pisses\n",
            "pissflaps\n",
            "pissin\n",
            "pissing\n",
            "pissoff\n",
            "poop\n",
            "porn\n",
            "porno\n",
            "pornography\n",
            "pornos\n",
            "prick\n",
            "pricks\n",
            "pron\n",
            "pube\n",
            "pusse\n",
            "pussi\n",
            "pussies\n",
            "pussy\n",
            "pussys\n",
            "rectum\n",
            "retard\n",
            "rimjaw\n",
            "rimming\n",
            "s hit\n",
            "s.o.b.\n",
            "sadist\n",
            "schlong\n",
            "screwing\n",
            "scroat\n",
            "scrote\n",
            "scrotum\n",
            "semen\n",
            "sex\n",
            "sh!+\n",
            "sh!t\n",
            "sh1t\n",
            "shag\n",
            "shagger\n",
            "shaggin\n",
            "shagging\n",
            "shemale\n",
            "shi+\n",
            "shit\n",
            "shitdick\n",
            "shite\n",
            "shited\n",
            "shitey\n",
            "shitfuck\n",
            "shitfull\n",
            "shithead\n",
            "shiting\n",
            "shitings\n",
            "shits\n",
            "shitted\n",
            "shitter\n",
            "shitters\n",
            "shitting\n",
            "shittings\n",
            "shitty\n",
            "skank\n",
            "slut\n",
            "sluts\n",
            "smegma\n",
            "smut\n",
            "snatch\n",
            "son-of-a-bitch\n",
            "spac\n",
            "spunk\n",
            "s_h_i_t\n",
            "t1tt1e5\n",
            "t1tties\n",
            "teets\n",
            "teez\n",
            "testical\n",
            "testicle\n",
            "tit\n",
            "titfuck\n",
            "tits\n",
            "titt\n",
            "tittie5\n",
            "tittiefucker\n",
            "titties\n",
            "tittyfuck\n",
            "tittywank\n",
            "titwank\n",
            "tosser\n",
            "turd\n",
            "tw4t\n",
            "twat\n",
            "twathead\n",
            "twatty\n",
            "twunt\n",
            "twunter\n",
            "v14gra\n",
            "v1gra\n",
            "vagina\n",
            "viagra\n",
            "vulva\n",
            "w00se\n",
            "wang\n",
            "wank\n",
            "wanker\n",
            "wanky\n",
            "whoar\n",
            "whore\n",
            "willies\n",
            "willy\n",
            "xrated\n",
            "xxx\n"
          ],
          "name": "stdout"
        }
      ]
    },
    {
      "cell_type": "code",
      "metadata": {
        "id": "HTevjwAQ1WZu",
        "outputId": "2580be4e-3975-456b-ac5d-95f590ae2918",
        "colab": {
          "base_uri": "https://localhost:8080/"
        }
      },
      "source": [
        "input=\"what a duche dyke\"\n",
        "x=1\n",
        "for x in swear_words:\n",
        "  if x in input:\n",
        "    x=0\n",
        "    break\n",
        "if x==0:\n",
        "  print(\"Yes input has swear words\")   \n",
        "else :\n",
        "  print(\"No swaer words\")  "
      ],
      "execution_count": 11,
      "outputs": [
        {
          "output_type": "stream",
          "text": [
            "Yes input has swear words\n"
          ],
          "name": "stdout"
        }
      ]
    },
    {
      "cell_type": "code",
      "metadata": {
        "id": "4IGJBbbm2ha_",
        "outputId": "6ba4e2ce-4dcb-49cd-da9c-d9cecc8e20c0",
        "colab": {
          "base_uri": "https://localhost:8080/"
        }
      },
      "source": [
        "input=\"what a idiot\"\n",
        "x=1\n",
        "for x in swear_words:\n",
        "  if x in input:\n",
        "    x=0\n",
        "    break\n",
        "if x==0:\n",
        "  print(\"Yes input has swear words\")   \n",
        "else :\n",
        "  print(\"No swaer words\") "
      ],
      "execution_count": 12,
      "outputs": [
        {
          "output_type": "stream",
          "text": [
            "No swaer words\n"
          ],
          "name": "stdout"
        }
      ]
    },
    {
      "cell_type": "markdown",
      "metadata": {
        "id": "PbLkpk3i5TiI"
      },
      "source": [
        "#4.Use Reduce Function"
      ]
    },
    {
      "cell_type": "markdown",
      "metadata": {
        "id": "d4ddgUko5cB4"
      },
      "source": [
        "##4.1 add only even numbers in a list"
      ]
    },
    {
      "cell_type": "code",
      "metadata": {
        "id": "0EJYm7I64S3L",
        "outputId": "9cfa7d88-8cfc-4eec-9f06-571a5bb9f6c6",
        "colab": {
          "base_uri": "https://localhost:8080/"
        }
      },
      "source": [
        "from functools import reduce\n",
        "input = [1, 2, 3, 4, 5, 6]\n",
        "final = reduce( lambda x,y: x+y, filter(lambda x: x%2==0, input)) \n",
        "print(final)"
      ],
      "execution_count": 13,
      "outputs": [
        {
          "output_type": "stream",
          "text": [
            "12\n"
          ],
          "name": "stdout"
        }
      ]
    },
    {
      "cell_type": "markdown",
      "metadata": {
        "id": "5qPjTMlu7IIC"
      },
      "source": [
        "##4.2 find the biggest character in a string"
      ]
    },
    {
      "cell_type": "code",
      "metadata": {
        "id": "xDk6mVt66Wi-",
        "outputId": "8593b37e-2a7b-42b7-ce59-18fc8d748dc2",
        "colab": {
          "base_uri": "https://localhost:8080/"
        }
      },
      "source": [
        "input = \"zipper\"\n",
        "final = reduce(lambda x,y: x if x > y else y, input)\n",
        "print(final)"
      ],
      "execution_count": 14,
      "outputs": [
        {
          "output_type": "stream",
          "text": [
            "z\n"
          ],
          "name": "stdout"
        }
      ]
    },
    {
      "cell_type": "markdown",
      "metadata": {
        "id": "nnNh5fvz-7gj"
      },
      "source": [
        "##4.3 adds every 3rd number in a list"
      ]
    },
    {
      "cell_type": "code",
      "metadata": {
        "id": "FTy3QGDr7oPD",
        "outputId": "a6daa30f-bbc5-4c7b-823d-2044b785ef00",
        "colab": {
          "base_uri": "https://localhost:8080/"
        }
      },
      "source": [
        "input = [1, 2, 3, 4, 5, 6,10]\n",
        "# print(input.index(3)%3==0)\n",
        "lth=len(input)\n",
        "final = reduce( lambda x,y: x+y, filter(lambda x: input.index(x)%3==0, input)) \n",
        "print(final)"
      ],
      "execution_count": 15,
      "outputs": [
        {
          "output_type": "stream",
          "text": [
            "15\n"
          ],
          "name": "stdout"
        }
      ]
    },
    {
      "cell_type": "markdown",
      "metadata": {
        "id": "_qjX-IelHiz4"
      },
      "source": [
        "# 5. Write an expression that generates 15 random KADDAADDDD number plates\n",
        "#####  where KA is fixed,\n",
        "##### D stands for a digit\n",
        " A stands for Capital alphabets"
      ]
    },
    {
      "cell_type": "code",
      "metadata": {
        "id": "BT23CYNoA1UQ",
        "outputId": "79079176-f1a3-4f77-d138-fc7a140bdd16",
        "colab": {
          "base_uri": "https://localhost:8080/"
        }
      },
      "source": [
        "import random\n",
        "import string\n",
        "length = 15\n",
        "fix = \"KA\"\n",
        "D2 = lambda: random.randint(10,99)\n",
        "D4 = lambda: random.randint(1000,9999)\n",
        "C1= random.choice(string.ascii_uppercase)\n",
        "C2= random.choice(string.ascii_uppercase)\n",
        "cf=[C1,C2]\n",
        "lett =\"\".join(cf)\n",
        "\n",
        "final = [fix + str(D2()) + lett + str(D4()) for i in range(length)]\n",
        "print(final)"
      ],
      "execution_count": 16,
      "outputs": [
        {
          "output_type": "stream",
          "text": [
            "['KA92DM5507', 'KA75DM2652', 'KA56DM8749', 'KA54DM6951', 'KA42DM4717', 'KA18DM3432', 'KA28DM5935', 'KA86DM1025', 'KA79DM1525', 'KA44DM8266', 'KA53DM6474', 'KA45DM8637', 'KA20DM2225', 'KA44DM4247', 'KA63DM3966']\n"
          ],
          "name": "stdout"
        }
      ]
    },
    {
      "cell_type": "markdown",
      "metadata": {
        "id": "91tCi8X5LWFp"
      },
      "source": [
        "#6. Write the above again from scratch where KA can be changed to DL, and 1000/9999 ranges can be provided"
      ]
    },
    {
      "cell_type": "code",
      "metadata": {
        "id": "Za7igWN_JRvI",
        "outputId": "d05c8730-142c-48fd-cfd1-4c1f7d4c32ee",
        "colab": {
          "base_uri": "https://localhost:8080/"
        }
      },
      "source": [
        "length = 15\n",
        "D4_=[3000,7000]\n",
        "fix = lambda: random.choice([\"KA\", \"DL\"])\n",
        "D2 = lambda: random.randint(10,99)\n",
        "D4 = lambda args: random.randint(*args)\n",
        "C1= random.choice(string.ascii_uppercase)\n",
        "C2= random.choice(string.ascii_uppercase)\n",
        "cf=[C1,C2]\n",
        "lett =\"\".join(cf)\n",
        "\n",
        "final = [fix() + str(D2()) + lett + str(D4(D4_)) for i in range(length)]\n",
        "print(final)"
      ],
      "execution_count": 17,
      "outputs": [
        {
          "output_type": "stream",
          "text": [
            "['KA34KD3445', 'KA88KD3813', 'DL52KD4294', 'KA29KD3794', 'DL29KD6793', 'DL20KD3281', 'KA11KD6534', 'KA38KD5930', 'DL60KD4904', 'DL44KD4698', 'DL58KD6140', 'DL93KD4873', 'KA79KD3961', 'DL43KD3019', 'KA32KD3792']\n"
          ],
          "name": "stdout"
        }
      ]
    }
  ]
}